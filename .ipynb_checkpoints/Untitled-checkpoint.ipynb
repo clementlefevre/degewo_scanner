{
 "cells": [
  {
   "cell_type": "code",
   "execution_count": 35,
   "metadata": {},
   "outputs": [],
   "source": [
    "import requests\n",
    "from collections import namedtuple"
   ]
  },
  {
   "cell_type": "code",
   "execution_count": 76,
   "metadata": {},
   "outputs": [],
   "source": [
    "EXCEL_FILE = \"degewo.xls\"\n",
    "SENDER_EMAIL = \"willykatrel.flask@gmail.com\"\n",
    "SENDER_PWD = \"Juliette2018!\"\n",
    "TARGET_EMAILS = ['clement.san@gmail.com','elisem.louvet@googlemail.com']\n",
    "DEGEWO_GET_TIMER = 5\n",
    "\n",
    "QUERY_STRING_1 = {'utf8':'✓','property_type_id':'1','district':'28,71','page':1,'rooms_radio':'custom','rooms_from':3,'rooms_to':10}\n",
    "QUERY_STRING_2_behinderfreunchlich = {'utf8':'✓','property_type_id':'1','district':'33,28,71,64,4-65','page':1,'rooms_radio':'custom','rooms_from':3,'rooms_to':10, 'features[]':[11]}\n",
    "QUERY_STRING_3_aufzug = {'utf8':'✓','property_type_id':'1','district':'33,28,71,64,4-65','page':1,'rooms_radio':'custom','rooms_from':3,'rooms_to':10, 'features[]':[2]}\n",
    "QUERY_STRING_4_rollstuhl = {'utf8':'✓','property_type_id':'1','district':'33,28,71,64,4-65','page':1,'rooms_radio':'custom','rooms_from':3,'rooms_to':10, 'features[]':[12]}\n",
    "\n",
    "ROOT_URL = \"https://immosuche.degewo.de\"\n",
    "START_URL = ROOT_URL + \"/de/search.json\"\n",
    "\n"
   ]
  },
  {
   "cell_type": "code",
   "execution_count": 60,
   "metadata": {},
   "outputs": [],
   "source": [
    "Query = namedtuple(\"Query\",[\"receiver\",\"excel_filename\",\"query_string\"])"
   ]
  },
  {
   "cell_type": "code",
   "execution_count": 61,
   "metadata": {},
   "outputs": [],
   "source": [
    "q1 = Query(TARGET_EMAILS,EXCEL_FILE,QUERY_STRING_1)"
   ]
  },
  {
   "cell_type": "code",
   "execution_count": 63,
   "metadata": {},
   "outputs": [
    {
     "data": {
      "text/plain": [
       "Query(receiver=['clement.san@gmail.com', 'elisem.louvet@googlemail.com'], excel_filename='degewo.xls', query_string={'utf8': '✓', 'property_type_id': '1', 'district': '33,28,71,64,4-65', 'page': 1, 'rooms_radio': 'custom', 'rooms_from': 3, 'rooms_to': 10})"
      ]
     },
     "execution_count": 63,
     "metadata": {},
     "output_type": "execute_result"
    }
   ],
   "source": [
    "q1"
   ]
  },
  {
   "cell_type": "code",
   "execution_count": 77,
   "metadata": {},
   "outputs": [],
   "source": [
    "r = requests.get(START_URL,params=QUERY_STRING_1)"
   ]
  },
  {
   "cell_type": "code",
   "execution_count": 78,
   "metadata": {},
   "outputs": [
    {
     "data": {
      "text/plain": [
       "{'immos': [{'id': '1100-00728-0074',\n",
       "   'property_number': '1100-00728-0074',\n",
       "   'headline': 'Den Lebensabend mit Blick ins Grüne genießen',\n",
       "   'living_space': 33.13,\n",
       "   'commercial_space': None,\n",
       "   'property_space': None,\n",
       "   'number_of_rooms': '1 Zimmer',\n",
       "   'zipcode': '13359',\n",
       "   'city': 'Berlin',\n",
       "   'street': 'Wilhelm-Kuhr-Straße',\n",
       "   'street_number': '50',\n",
       "   'floor': 5.0,\n",
       "   'number_of_floors': 8.0,\n",
       "   'story': '4. Obergeschoss',\n",
       "   'rent_cold': '282,07 €',\n",
       "   'rent_total_with_vat': None,\n",
       "   'rent_total_without_vat': '450,84 €',\n",
       "   'rent_pa': None,\n",
       "   'buying_price': None,\n",
       "   'service_charges_cold': 133.22,\n",
       "   'service_charges_warm': 35.55,\n",
       "   'price_per_square_meter': None,\n",
       "   'common_charge': None,\n",
       "   'service_fee': None,\n",
       "   'deposit': 'drei Nettokaltmieten',\n",
       "   'company': None,\n",
       "   'construction_year': 1969,\n",
       "   'location_details_environment': ' Park- und Grünflächen in unmittelbarer Nähe, Parkfläche vorhanden, ruhige Nebenstraße,  Bus: 150, 155, 250, 255, M27, N52,  S-Bahn: S1, S2, S25, S8, S85, S9,  Tram: 50, M1, M13',\n",
       "   'location_details_inhouse': None,\n",
       "   'location_details_story': '3. Wohnung von links',\n",
       "   'description': 'Bitte beachten Sie, dass dies eine Seniorenwohnanlage ist und eine Anmietung erst ab dem 58. Lebensjahr erfolgen kann. Die Miete beinhaltet eine Servicepauschale in Höhe von 37,00 Euro.',\n",
       "   'available_from': 'sofort',\n",
       "   'other_information': 'Die Haltung von Hunden ist in diesem Objekt nicht möglich.<br> WBS-Inhaber und Berechtigte können diese Wohnung ggf. zu vergünstigten Konditionen anmieten.<br> ',\n",
       "   'logo': 'd',\n",
       "   'wenr': '0503',\n",
       "   'energy_efficiency': 91.2,\n",
       "   'energy_certificate_type': 'Bedarf',\n",
       "   'primary_energy_carrier': 'Heizöl',\n",
       "   'wbs_required': False,\n",
       "   'location': {'lat': 52.564843, 'lon': 13.38796},\n",
       "   'property_type_id': 1,\n",
       "   'property_type': {'id': 1, 'name': 'Mieten'},\n",
       "   'housing_type_id': None,\n",
       "   'housing_type': None,\n",
       "   'condition_id': None,\n",
       "   'condition': None,\n",
       "   'authority_id': 14,\n",
       "   'authority': {'surname': 'Vermietung',\n",
       "    'prename': None,\n",
       "    'telephone': '030 26485-2385',\n",
       "    'fax': '030 26485-2331',\n",
       "    'email': 'degewo-vermietung@degewo.de',\n",
       "    'email_expose': 'vermietung-nord@degewo.de',\n",
       "    'zipcode': None,\n",
       "    'city': '13355 Berlin',\n",
       "    'street': 'Brunnenstraße 128',\n",
       "    'street_number': None,\n",
       "    'customer_service_description': 'degewo Kundenzentrum Nord',\n",
       "    'opening_hours_title': None,\n",
       "    'opening_hours_1': None,\n",
       "    'opening_hours_2': None,\n",
       "    'opening_hours_3': None,\n",
       "    'opening_hours_4': None},\n",
       "   'neighborhood_id': 28,\n",
       "   'neighborhood': {'name': None, 'district': 'Mitte'},\n",
       "   'external_data': [{'filename': '00062800/00062870.jpg',\n",
       "     'name': 'Grundriss',\n",
       "     'type': 'Grundriss',\n",
       "     'priority': 1},\n",
       "    {'filename': '10160600/10160608.jpg',\n",
       "     'name': 'Hausansicht',\n",
       "     'type': 'Außenansicht',\n",
       "     'priority': 1},\n",
       "    {'filename': '10160600/10160609.jpg',\n",
       "     'name': 'Hausansicht',\n",
       "     'type': 'Außenansicht',\n",
       "     'priority': 2},\n",
       "    {'filename': '10160600/10160610.jpg',\n",
       "     'name': 'Hausansicht',\n",
       "     'type': 'Außenansicht',\n",
       "     'priority': 2},\n",
       "    {'filename': '10160600/10160611.jpg',\n",
       "     'name': 'Hausansicht',\n",
       "     'type': 'Außenansicht',\n",
       "     'priority': 2},\n",
       "    {'filename': '10160600/10160604.jpg',\n",
       "     'name': 'Hauseingang',\n",
       "     'type': 'Außenansicht',\n",
       "     'priority': 2},\n",
       "    {'filename': '10160600/10160605.jpg',\n",
       "     'name': 'Hauseingang',\n",
       "     'type': 'Außenansicht',\n",
       "     'priority': 2},\n",
       "    {'filename': '10160600/10160606.jpg',\n",
       "     'name': 'Umgebung',\n",
       "     'type': 'Außenansicht',\n",
       "     'priority': 2},\n",
       "    {'filename': '10160600/10160607.jpg',\n",
       "     'name': 'Umgebung',\n",
       "     'type': 'Außenansicht',\n",
       "     'priority': 2},\n",
       "    {'filename': 'Energieausweise/B1100_00728_01.jpg',\n",
       "     'name': 'Energieausweis',\n",
       "     'type': 'Energieausweis',\n",
       "     'priority': 3},\n",
       "    {'filename': 'Energieausweise/PDF/1100_00728_01.pdf',\n",
       "     'name': 'Energieausweis-PDF',\n",
       "     'type': 'Energieausweis-PDF',\n",
       "     'priority': 3}],\n",
       "   'furnishings': [{'id': 1, 'name': 'Balkon/Loggia', 'searchable': True},\n",
       "    {'id': 2, 'name': 'Aufzug', 'searchable': True},\n",
       "    {'id': 3, 'name': 'Küche mit Fenster', 'searchable': False},\n",
       "    {'id': 11, 'name': 'behindertenfreundlich', 'searchable': True},\n",
       "    {'id': 15, 'name': 'gefliestes Bad', 'searchable': False},\n",
       "    {'id': 20, 'name': 'Fernwarmwasserversorgung', 'searchable': False},\n",
       "    {'id': 27, 'name': 'Kabelfernsehen', 'searchable': False},\n",
       "    {'id': 39, 'name': 'Abstellraum', 'searchable': False},\n",
       "    {'id': 47, 'name': 'Fern-/Zentralheizung', 'searchable': False}],\n",
       "   'property_categories': [{'id': 1, 'name': 'Wohnung'}],\n",
       "   'special_offers': [],\n",
       "   'district_tour': None,\n",
       "   'is_business': False,\n",
       "   'space': '33,1 m²',\n",
       "   'price': '450,84 €',\n",
       "   'address': 'Wilhelm-Kuhr-Straße 50 | Mitte',\n",
       "   'full_address': 'Wilhelm-Kuhr-Straße 50 | 13359 Berlin',\n",
       "   'thumb_path': '/images/properties/thumbs/135x101/10160600/10160608.jpg',\n",
       "   'thumb_url': 'https://immosuche.degewo.de/images/properties/thumbs/135x101/10160600/10160608.jpg',\n",
       "   'mobile_thumb_path': '/images/properties/full/760x570/10160600/10160608.jpg',\n",
       "   'mobile_thumb_url': 'https://immosuche.degewo.de/images/properties/full/760x570/10160600/10160608.jpg',\n",
       "   'property_path': '/de/properties/1100-00728-0074',\n",
       "   'price_label': 'Warmmiete:'}],\n",
       " 'hints': None,\n",
       " 'category_aggregations': [{'key': '20', 'doc_count': 0},\n",
       "  {'key': '1', 'doc_count': 1},\n",
       "  {'key': '19', 'doc_count': 0},\n",
       "  {'key': '16', 'doc_count': 0},\n",
       "  {'key': '12', 'doc_count': 0}],\n",
       " 'search_params': {'size': 10,\n",
       "  'page': 1,\n",
       "  'property_type_id': 1,\n",
       "  'categories': ['1'],\n",
       "  'lat': None,\n",
       "  'lon': None,\n",
       "  'area': None,\n",
       "  'address': None,\n",
       "  'district': '33,28,71,64,4-65',\n",
       "  'property_number': None,\n",
       "  'price_switch': True,\n",
       "  'price_radio': 'null',\n",
       "  'price_from': None,\n",
       "  'price_to': None,\n",
       "  'qm_radio': 'null',\n",
       "  'qm_from': None,\n",
       "  'qm_to': None,\n",
       "  'rooms_radio': 'custom',\n",
       "  'rooms_from': 1,\n",
       "  'rooms_to': 10,\n",
       "  'features': [11],\n",
       "  'order': 'rent_total_without_vat_asc'},\n",
       " 'total': 1,\n",
       " 'pagination': {'current_page': '/de/search.json?district=33%2C28%2C71%2C64%2C4-65&features%5B%5D=11&page=1&property_type_id=1&rooms_from=1&rooms_radio=custom&rooms_to=10&utf8=%E2%9C%93',\n",
       "  'first_page': '/de/search.json?district=33%2C28%2C71%2C64%2C4-65&features%5B%5D=11&page=1&property_type_id=1&rooms_from=1&rooms_radio=custom&rooms_to=10&utf8=%E2%9C%93',\n",
       "  'last_page': '/de/search.json?district=33%2C28%2C71%2C64%2C4-65&features%5B%5D=11&page=1&property_type_id=1&rooms_from=1&rooms_radio=custom&rooms_to=10&utf8=%E2%9C%93'}}"
      ]
     },
     "execution_count": 78,
     "metadata": {},
     "output_type": "execute_result"
    }
   ],
   "source": [
    "r.json()"
   ]
  },
  {
   "cell_type": "code",
   "execution_count": null,
   "metadata": {},
   "outputs": [],
   "source": []
  }
 ],
 "metadata": {
  "kernelspec": {
   "display_name": "Python 3",
   "language": "python",
   "name": "python3"
  },
  "language_info": {
   "codemirror_mode": {
    "name": "ipython",
    "version": 3
   },
   "file_extension": ".py",
   "mimetype": "text/x-python",
   "name": "python",
   "nbconvert_exporter": "python",
   "pygments_lexer": "ipython3",
   "version": "3.7.1"
  }
 },
 "nbformat": 4,
 "nbformat_minor": 2
}
